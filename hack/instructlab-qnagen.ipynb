{
 "cells": [
  {
   "cell_type": "code",
   "execution_count": 3,
   "id": "78d52cfe-70b3-4d93-8fc2-f28366e2bde2",
   "metadata": {},
   "outputs": [
    {
     "name": "stdout",
     "output_type": "stream",
     "text": [
      "Requirement already satisfied: docling-sdg in /Users/astoyano/Documents/code/support-utils/.venv/lib/python3.11/site-packages (0.1.2)\n",
      "Requirement already satisfied: docling>=2.26.0 in /Users/astoyano/Documents/code/support-utils/.venv/lib/python3.11/site-packages (from docling-sdg) (2.28.1)\n",
      "Requirement already satisfied: docling-core>=2.23.0 in /Users/astoyano/Documents/code/support-utils/.venv/lib/python3.11/site-packages (from docling-core[chunking]>=2.23.0->docling-sdg) (2.24.0)\n",
      "Requirement already satisfied: llama-index-core>=0.12.25 in /Users/astoyano/Documents/code/support-utils/.venv/lib/python3.11/site-packages (from docling-sdg) (0.12.25)\n",
      "Requirement already satisfied: llama-index-llms-ibm>=0.3.3 in /Users/astoyano/Documents/code/support-utils/.venv/lib/python3.11/site-packages (from docling-sdg) (0.3.3)\n",
      "Requirement already satisfied: pydantic>=2.0.0 in /Users/astoyano/Documents/code/support-utils/.venv/lib/python3.11/site-packages (from docling-sdg) (2.10.6)\n",
      "Requirement already satisfied: semchunk>=2.2.2 in /Users/astoyano/Documents/code/support-utils/.venv/lib/python3.11/site-packages (from docling-sdg) (2.2.2)\n",
      "Requirement already satisfied: transformers>=4.42.4 in /Users/astoyano/Documents/code/support-utils/.venv/lib/python3.11/site-packages (from docling-sdg) (4.50.1)\n",
      "Requirement already satisfied: typer>=0.12.5 in /Users/astoyano/Documents/code/support-utils/.venv/lib/python3.11/site-packages (from docling-sdg) (0.12.5)\n",
      "Requirement already satisfied: typing-extensions>=4.12.2 in /Users/astoyano/Documents/code/support-utils/.venv/lib/python3.11/site-packages (from docling-sdg) (4.13.0)\n",
      "Requirement already satisfied: beautifulsoup4<5.0.0,>=4.12.3 in /Users/astoyano/Documents/code/support-utils/.venv/lib/python3.11/site-packages (from docling>=2.26.0->docling-sdg) (4.13.3)\n",
      "Requirement already satisfied: certifi>=2024.7.4 in /Users/astoyano/Documents/code/support-utils/.venv/lib/python3.11/site-packages (from docling>=2.26.0->docling-sdg) (2025.1.31)\n",
      "Requirement already satisfied: docling-ibm-models<4.0.0,>=3.4.0 in /Users/astoyano/Documents/code/support-utils/.venv/lib/python3.11/site-packages (from docling>=2.26.0->docling-sdg) (3.4.1)\n",
      "Requirement already satisfied: docling-parse<5.0.0,>=4.0.0 in /Users/astoyano/Documents/code/support-utils/.venv/lib/python3.11/site-packages (from docling>=2.26.0->docling-sdg) (4.0.0)\n",
      "Requirement already satisfied: easyocr<2.0,>=1.7 in /Users/astoyano/Documents/code/support-utils/.venv/lib/python3.11/site-packages (from docling>=2.26.0->docling-sdg) (1.7.2)\n",
      "Requirement already satisfied: filetype<2.0.0,>=1.2.0 in /Users/astoyano/Documents/code/support-utils/.venv/lib/python3.11/site-packages (from docling>=2.26.0->docling-sdg) (1.2.0)\n",
      "Requirement already satisfied: huggingface_hub<1,>=0.23 in /Users/astoyano/Documents/code/support-utils/.venv/lib/python3.11/site-packages (from docling>=2.26.0->docling-sdg) (0.29.3)\n",
      "Requirement already satisfied: lxml<6.0.0,>=4.0.0 in /Users/astoyano/Documents/code/support-utils/.venv/lib/python3.11/site-packages (from docling>=2.26.0->docling-sdg) (5.3.1)\n",
      "Requirement already satisfied: marko<3.0.0,>=2.1.2 in /Users/astoyano/Documents/code/support-utils/.venv/lib/python3.11/site-packages (from docling>=2.26.0->docling-sdg) (2.1.2)\n",
      "Requirement already satisfied: openpyxl<4.0.0,>=3.1.5 in /Users/astoyano/Documents/code/support-utils/.venv/lib/python3.11/site-packages (from docling>=2.26.0->docling-sdg) (3.1.5)\n",
      "Requirement already satisfied: pandas<3.0.0,>=2.1.4 in /Users/astoyano/Documents/code/support-utils/.venv/lib/python3.11/site-packages (from docling>=2.26.0->docling-sdg) (2.2.3)\n",
      "Requirement already satisfied: pillow<12.0.0,>=10.0.0 in /Users/astoyano/Documents/code/support-utils/.venv/lib/python3.11/site-packages (from docling>=2.26.0->docling-sdg) (11.1.0)\n",
      "Requirement already satisfied: pluggy<2.0.0,>=1.0.0 in /Users/astoyano/Documents/code/support-utils/.venv/lib/python3.11/site-packages (from docling>=2.26.0->docling-sdg) (1.5.0)\n",
      "Requirement already satisfied: pydantic-settings<3.0.0,>=2.3.0 in /Users/astoyano/Documents/code/support-utils/.venv/lib/python3.11/site-packages (from docling>=2.26.0->docling-sdg) (2.8.1)\n",
      "Requirement already satisfied: pylatexenc<3.0,>=2.10 in /Users/astoyano/Documents/code/support-utils/.venv/lib/python3.11/site-packages (from docling>=2.26.0->docling-sdg) (2.10)\n",
      "Requirement already satisfied: pypdfium2<5.0.0,>=4.30.0 in /Users/astoyano/Documents/code/support-utils/.venv/lib/python3.11/site-packages (from docling>=2.26.0->docling-sdg) (4.30.1)\n",
      "Requirement already satisfied: python-docx<2.0.0,>=1.1.2 in /Users/astoyano/Documents/code/support-utils/.venv/lib/python3.11/site-packages (from docling>=2.26.0->docling-sdg) (1.1.2)\n",
      "Requirement already satisfied: python-pptx<2.0.0,>=1.0.2 in /Users/astoyano/Documents/code/support-utils/.venv/lib/python3.11/site-packages (from docling>=2.26.0->docling-sdg) (1.0.2)\n",
      "Requirement already satisfied: requests<3.0.0,>=2.32.2 in /Users/astoyano/Documents/code/support-utils/.venv/lib/python3.11/site-packages (from docling>=2.26.0->docling-sdg) (2.32.2)\n",
      "Requirement already satisfied: rtree<2.0.0,>=1.3.0 in /Users/astoyano/Documents/code/support-utils/.venv/lib/python3.11/site-packages (from docling>=2.26.0->docling-sdg) (1.4.0)\n",
      "Requirement already satisfied: scipy<2.0.0,>=1.6.0 in /Users/astoyano/Documents/code/support-utils/.venv/lib/python3.11/site-packages (from docling>=2.26.0->docling-sdg) (1.15.2)\n",
      "Requirement already satisfied: tqdm<5.0.0,>=4.65.0 in /Users/astoyano/Documents/code/support-utils/.venv/lib/python3.11/site-packages (from docling>=2.26.0->docling-sdg) (4.67.1)\n",
      "Requirement already satisfied: jsonref<2.0.0,>=1.1.0 in /Users/astoyano/Documents/code/support-utils/.venv/lib/python3.11/site-packages (from docling-core>=2.23.0->docling-core[chunking]>=2.23.0->docling-sdg) (1.1.0)\n",
      "Requirement already satisfied: jsonschema<5.0.0,>=4.16.0 in /Users/astoyano/Documents/code/support-utils/.venv/lib/python3.11/site-packages (from docling-core>=2.23.0->docling-core[chunking]>=2.23.0->docling-sdg) (4.23.0)\n",
      "Requirement already satisfied: latex2mathml<4.0.0,>=3.77.0 in /Users/astoyano/Documents/code/support-utils/.venv/lib/python3.11/site-packages (from docling-core>=2.23.0->docling-core[chunking]>=2.23.0->docling-sdg) (3.77.0)\n",
      "Requirement already satisfied: pyyaml<7.0.0,>=5.1 in /Users/astoyano/Documents/code/support-utils/.venv/lib/python3.11/site-packages (from docling-core>=2.23.0->docling-core[chunking]>=2.23.0->docling-sdg) (6.0.2)\n",
      "Requirement already satisfied: tabulate<0.10.0,>=0.9.0 in /Users/astoyano/Documents/code/support-utils/.venv/lib/python3.11/site-packages (from docling-core>=2.23.0->docling-core[chunking]>=2.23.0->docling-sdg) (0.9.0)\n",
      "Requirement already satisfied: SQLAlchemy>=1.4.49 in /Users/astoyano/Documents/code/support-utils/.venv/lib/python3.11/site-packages (from SQLAlchemy[asyncio]>=1.4.49->llama-index-core>=0.12.25->docling-sdg) (2.0.39)\n",
      "Requirement already satisfied: aiohttp<4.0.0,>=3.8.6 in /Users/astoyano/Documents/code/support-utils/.venv/lib/python3.11/site-packages (from llama-index-core>=0.12.25->docling-sdg) (3.11.14)\n",
      "Requirement already satisfied: dataclasses-json in /Users/astoyano/Documents/code/support-utils/.venv/lib/python3.11/site-packages (from llama-index-core>=0.12.25->docling-sdg) (0.6.7)\n",
      "Requirement already satisfied: deprecated>=1.2.9.3 in /Users/astoyano/Documents/code/support-utils/.venv/lib/python3.11/site-packages (from llama-index-core>=0.12.25->docling-sdg) (1.2.18)\n",
      "Requirement already satisfied: dirtyjson<2.0.0,>=1.0.8 in /Users/astoyano/Documents/code/support-utils/.venv/lib/python3.11/site-packages (from llama-index-core>=0.12.25->docling-sdg) (1.0.8)\n",
      "Requirement already satisfied: fsspec>=2023.5.0 in /Users/astoyano/Documents/code/support-utils/.venv/lib/python3.11/site-packages (from llama-index-core>=0.12.25->docling-sdg) (2025.3.0)\n",
      "Requirement already satisfied: httpx in /Users/astoyano/Documents/code/support-utils/.venv/lib/python3.11/site-packages (from llama-index-core>=0.12.25->docling-sdg) (0.28.1)\n",
      "Requirement already satisfied: nest-asyncio<2.0.0,>=1.5.8 in /Users/astoyano/Documents/code/support-utils/.venv/lib/python3.11/site-packages (from llama-index-core>=0.12.25->docling-sdg) (1.6.0)\n",
      "Requirement already satisfied: networkx>=3.0 in /Users/astoyano/Documents/code/support-utils/.venv/lib/python3.11/site-packages (from llama-index-core>=0.12.25->docling-sdg) (3.4.2)\n",
      "Requirement already satisfied: nltk>3.8.1 in /Users/astoyano/Documents/code/support-utils/.venv/lib/python3.11/site-packages (from llama-index-core>=0.12.25->docling-sdg) (3.9.1)\n",
      "Requirement already satisfied: numpy in /Users/astoyano/Documents/code/support-utils/.venv/lib/python3.11/site-packages (from llama-index-core>=0.12.25->docling-sdg) (2.2.4)\n",
      "Requirement already satisfied: tenacity!=8.4.0,<10.0.0,>=8.2.0 in /Users/astoyano/Documents/code/support-utils/.venv/lib/python3.11/site-packages (from llama-index-core>=0.12.25->docling-sdg) (9.0.0)\n",
      "Requirement already satisfied: tiktoken>=0.3.3 in /Users/astoyano/Documents/code/support-utils/.venv/lib/python3.11/site-packages (from llama-index-core>=0.12.25->docling-sdg) (0.9.0)\n",
      "Requirement already satisfied: typing-inspect>=0.8.0 in /Users/astoyano/Documents/code/support-utils/.venv/lib/python3.11/site-packages (from llama-index-core>=0.12.25->docling-sdg) (0.9.0)\n",
      "Requirement already satisfied: wrapt in /Users/astoyano/Documents/code/support-utils/.venv/lib/python3.11/site-packages (from llama-index-core>=0.12.25->docling-sdg) (1.17.2)\n",
      "Requirement already satisfied: ibm-watsonx-ai>=1.1.24 in /Users/astoyano/Documents/code/support-utils/.venv/lib/python3.11/site-packages (from llama-index-llms-ibm>=0.3.3->docling-sdg) (1.3.3)\n",
      "Requirement already satisfied: pyarrow in /Users/astoyano/Documents/code/support-utils/.venv/lib/python3.11/site-packages (from llama-index-llms-ibm>=0.3.3->docling-sdg) (19.0.1)\n",
      "Requirement already satisfied: annotated-types>=0.6.0 in /Users/astoyano/Documents/code/support-utils/.venv/lib/python3.11/site-packages (from pydantic>=2.0.0->docling-sdg) (0.7.0)\n",
      "Requirement already satisfied: pydantic-core==2.27.2 in /Users/astoyano/Documents/code/support-utils/.venv/lib/python3.11/site-packages (from pydantic>=2.0.0->docling-sdg) (2.27.2)\n",
      "Requirement already satisfied: mpire[dill] in /Users/astoyano/Documents/code/support-utils/.venv/lib/python3.11/site-packages (from semchunk>=2.2.2->docling-sdg) (2.10.2)\n",
      "Requirement already satisfied: filelock in /Users/astoyano/Documents/code/support-utils/.venv/lib/python3.11/site-packages (from transformers>=4.42.4->docling-sdg) (3.18.0)\n",
      "Requirement already satisfied: packaging>=20.0 in /Users/astoyano/Documents/code/support-utils/.venv/lib/python3.11/site-packages (from transformers>=4.42.4->docling-sdg) (24.2)\n",
      "Requirement already satisfied: regex!=2019.12.17 in /Users/astoyano/Documents/code/support-utils/.venv/lib/python3.11/site-packages (from transformers>=4.42.4->docling-sdg) (2024.11.6)\n",
      "Requirement already satisfied: tokenizers<0.22,>=0.21 in /Users/astoyano/Documents/code/support-utils/.venv/lib/python3.11/site-packages (from transformers>=4.42.4->docling-sdg) (0.21.1)\n",
      "Requirement already satisfied: safetensors>=0.4.3 in /Users/astoyano/Documents/code/support-utils/.venv/lib/python3.11/site-packages (from transformers>=4.42.4->docling-sdg) (0.5.3)\n",
      "Requirement already satisfied: click>=8.0.0 in /Users/astoyano/Documents/code/support-utils/.venv/lib/python3.11/site-packages (from typer>=0.12.5->docling-sdg) (8.1.8)\n",
      "Requirement already satisfied: shellingham>=1.3.0 in /Users/astoyano/Documents/code/support-utils/.venv/lib/python3.11/site-packages (from typer>=0.12.5->docling-sdg) (1.5.4)\n",
      "Requirement already satisfied: rich>=10.11.0 in /Users/astoyano/Documents/code/support-utils/.venv/lib/python3.11/site-packages (from typer>=0.12.5->docling-sdg) (13.9.4)\n",
      "Requirement already satisfied: aiohappyeyeballs>=2.3.0 in /Users/astoyano/Documents/code/support-utils/.venv/lib/python3.11/site-packages (from aiohttp<4.0.0,>=3.8.6->llama-index-core>=0.12.25->docling-sdg) (2.6.1)\n",
      "Requirement already satisfied: aiosignal>=1.1.2 in /Users/astoyano/Documents/code/support-utils/.venv/lib/python3.11/site-packages (from aiohttp<4.0.0,>=3.8.6->llama-index-core>=0.12.25->docling-sdg) (1.3.2)\n",
      "Requirement already satisfied: attrs>=17.3.0 in /Users/astoyano/Documents/code/support-utils/.venv/lib/python3.11/site-packages (from aiohttp<4.0.0,>=3.8.6->llama-index-core>=0.12.25->docling-sdg) (25.3.0)\n",
      "Requirement already satisfied: frozenlist>=1.1.1 in /Users/astoyano/Documents/code/support-utils/.venv/lib/python3.11/site-packages (from aiohttp<4.0.0,>=3.8.6->llama-index-core>=0.12.25->docling-sdg) (1.5.0)\n",
      "Requirement already satisfied: multidict<7.0,>=4.5 in /Users/astoyano/Documents/code/support-utils/.venv/lib/python3.11/site-packages (from aiohttp<4.0.0,>=3.8.6->llama-index-core>=0.12.25->docling-sdg) (6.2.0)\n",
      "Requirement already satisfied: propcache>=0.2.0 in /Users/astoyano/Documents/code/support-utils/.venv/lib/python3.11/site-packages (from aiohttp<4.0.0,>=3.8.6->llama-index-core>=0.12.25->docling-sdg) (0.3.1)\n",
      "Requirement already satisfied: yarl<2.0,>=1.17.0 in /Users/astoyano/Documents/code/support-utils/.venv/lib/python3.11/site-packages (from aiohttp<4.0.0,>=3.8.6->llama-index-core>=0.12.25->docling-sdg) (1.18.3)\n",
      "Requirement already satisfied: soupsieve>1.2 in /Users/astoyano/Documents/code/support-utils/.venv/lib/python3.11/site-packages (from beautifulsoup4<5.0.0,>=4.12.3->docling>=2.26.0->docling-sdg) (2.6)\n",
      "Requirement already satisfied: jsonlines<4.0.0,>=3.1.0 in /Users/astoyano/Documents/code/support-utils/.venv/lib/python3.11/site-packages (from docling-ibm-models<4.0.0,>=3.4.0->docling>=2.26.0->docling-sdg) (3.1.0)\n",
      "Requirement already satisfied: opencv-python-headless<5.0.0.0,>=4.6.0.66 in /Users/astoyano/Documents/code/support-utils/.venv/lib/python3.11/site-packages (from docling-ibm-models<4.0.0,>=3.4.0->docling>=2.26.0->docling-sdg) (4.11.0.86)\n",
      "Requirement already satisfied: torch<3.0.0,>=2.2.2 in /Users/astoyano/Documents/code/support-utils/.venv/lib/python3.11/site-packages (from docling-ibm-models<4.0.0,>=3.4.0->docling>=2.26.0->docling-sdg) (2.6.0)\n",
      "Requirement already satisfied: torchvision<1,>=0 in /Users/astoyano/Documents/code/support-utils/.venv/lib/python3.11/site-packages (from docling-ibm-models<4.0.0,>=3.4.0->docling>=2.26.0->docling-sdg) (0.21.0)\n",
      "Requirement already satisfied: scikit-image in /Users/astoyano/Documents/code/support-utils/.venv/lib/python3.11/site-packages (from easyocr<2.0,>=1.7->docling>=2.26.0->docling-sdg) (0.25.2)\n",
      "Requirement already satisfied: python-bidi in /Users/astoyano/Documents/code/support-utils/.venv/lib/python3.11/site-packages (from easyocr<2.0,>=1.7->docling>=2.26.0->docling-sdg) (0.6.6)\n",
      "Requirement already satisfied: Shapely in /Users/astoyano/Documents/code/support-utils/.venv/lib/python3.11/site-packages (from easyocr<2.0,>=1.7->docling>=2.26.0->docling-sdg) (2.0.7)\n",
      "Requirement already satisfied: pyclipper in /Users/astoyano/Documents/code/support-utils/.venv/lib/python3.11/site-packages (from easyocr<2.0,>=1.7->docling>=2.26.0->docling-sdg) (1.3.0.post6)\n",
      "Requirement already satisfied: ninja in /Users/astoyano/Documents/code/support-utils/.venv/lib/python3.11/site-packages (from easyocr<2.0,>=1.7->docling>=2.26.0->docling-sdg) (1.11.1.4)\n",
      "Requirement already satisfied: urllib3 in /Users/astoyano/Documents/code/support-utils/.venv/lib/python3.11/site-packages (from ibm-watsonx-ai>=1.1.24->llama-index-llms-ibm>=0.3.3->docling-sdg) (2.3.0)\n",
      "Requirement already satisfied: lomond in /Users/astoyano/Documents/code/support-utils/.venv/lib/python3.11/site-packages (from ibm-watsonx-ai>=1.1.24->llama-index-llms-ibm>=0.3.3->docling-sdg) (0.3.3)\n",
      "Requirement already satisfied: ibm-cos-sdk<2.15.0,>=2.12.0 in /Users/astoyano/Documents/code/support-utils/.venv/lib/python3.11/site-packages (from ibm-watsonx-ai>=1.1.24->llama-index-llms-ibm>=0.3.3->docling-sdg) (2.14.0)\n",
      "Requirement already satisfied: anyio in /Users/astoyano/Documents/code/support-utils/.venv/lib/python3.11/site-packages (from httpx->llama-index-core>=0.12.25->docling-sdg) (4.9.0)\n",
      "Requirement already satisfied: httpcore==1.* in /Users/astoyano/Documents/code/support-utils/.venv/lib/python3.11/site-packages (from httpx->llama-index-core>=0.12.25->docling-sdg) (1.0.7)\n",
      "Requirement already satisfied: idna in /Users/astoyano/Documents/code/support-utils/.venv/lib/python3.11/site-packages (from httpx->llama-index-core>=0.12.25->docling-sdg) (3.10)\n",
      "Requirement already satisfied: h11<0.15,>=0.13 in /Users/astoyano/Documents/code/support-utils/.venv/lib/python3.11/site-packages (from httpcore==1.*->httpx->llama-index-core>=0.12.25->docling-sdg) (0.14.0)\n",
      "Requirement already satisfied: jsonschema-specifications>=2023.03.6 in /Users/astoyano/Documents/code/support-utils/.venv/lib/python3.11/site-packages (from jsonschema<5.0.0,>=4.16.0->docling-core>=2.23.0->docling-core[chunking]>=2.23.0->docling-sdg) (2024.10.1)\n",
      "Requirement already satisfied: referencing>=0.28.4 in /Users/astoyano/Documents/code/support-utils/.venv/lib/python3.11/site-packages (from jsonschema<5.0.0,>=4.16.0->docling-core>=2.23.0->docling-core[chunking]>=2.23.0->docling-sdg) (0.36.2)\n",
      "Requirement already satisfied: rpds-py>=0.7.1 in /Users/astoyano/Documents/code/support-utils/.venv/lib/python3.11/site-packages (from jsonschema<5.0.0,>=4.16.0->docling-core>=2.23.0->docling-core[chunking]>=2.23.0->docling-sdg) (0.24.0)\n",
      "Requirement already satisfied: joblib in /Users/astoyano/Documents/code/support-utils/.venv/lib/python3.11/site-packages (from nltk>3.8.1->llama-index-core>=0.12.25->docling-sdg) (1.4.2)\n",
      "Requirement already satisfied: et-xmlfile in /Users/astoyano/Documents/code/support-utils/.venv/lib/python3.11/site-packages (from openpyxl<4.0.0,>=3.1.5->docling>=2.26.0->docling-sdg) (2.0.0)\n",
      "Requirement already satisfied: python-dateutil>=2.8.2 in /Users/astoyano/Documents/code/support-utils/.venv/lib/python3.11/site-packages (from pandas<3.0.0,>=2.1.4->docling>=2.26.0->docling-sdg) (2.9.0.post0)\n",
      "Requirement already satisfied: pytz>=2020.1 in /Users/astoyano/Documents/code/support-utils/.venv/lib/python3.11/site-packages (from pandas<3.0.0,>=2.1.4->docling>=2.26.0->docling-sdg) (2025.2)\n",
      "Requirement already satisfied: tzdata>=2022.7 in /Users/astoyano/Documents/code/support-utils/.venv/lib/python3.11/site-packages (from pandas<3.0.0,>=2.1.4->docling>=2.26.0->docling-sdg) (2025.2)\n",
      "Requirement already satisfied: python-dotenv>=0.21.0 in /Users/astoyano/Documents/code/support-utils/.venv/lib/python3.11/site-packages (from pydantic-settings<3.0.0,>=2.3.0->docling>=2.26.0->docling-sdg) (1.1.0)\n",
      "Requirement already satisfied: XlsxWriter>=0.5.7 in /Users/astoyano/Documents/code/support-utils/.venv/lib/python3.11/site-packages (from python-pptx<2.0.0,>=1.0.2->docling>=2.26.0->docling-sdg) (3.2.2)\n",
      "Requirement already satisfied: charset-normalizer<4,>=2 in /Users/astoyano/Documents/code/support-utils/.venv/lib/python3.11/site-packages (from requests<3.0.0,>=2.32.2->docling>=2.26.0->docling-sdg) (3.4.1)\n",
      "Requirement already satisfied: markdown-it-py>=2.2.0 in /Users/astoyano/Documents/code/support-utils/.venv/lib/python3.11/site-packages (from rich>=10.11.0->typer>=0.12.5->docling-sdg) (3.0.0)\n",
      "Requirement already satisfied: pygments<3.0.0,>=2.13.0 in /Users/astoyano/Documents/code/support-utils/.venv/lib/python3.11/site-packages (from rich>=10.11.0->typer>=0.12.5->docling-sdg) (2.19.1)\n",
      "Requirement already satisfied: greenlet!=0.4.17 in /Users/astoyano/Documents/code/support-utils/.venv/lib/python3.11/site-packages (from SQLAlchemy[asyncio]>=1.4.49->llama-index-core>=0.12.25->docling-sdg) (3.1.1)\n",
      "Requirement already satisfied: mypy-extensions>=0.3.0 in /Users/astoyano/Documents/code/support-utils/.venv/lib/python3.11/site-packages (from typing-inspect>=0.8.0->llama-index-core>=0.12.25->docling-sdg) (1.0.0)\n",
      "Requirement already satisfied: marshmallow<4.0.0,>=3.18.0 in /Users/astoyano/Documents/code/support-utils/.venv/lib/python3.11/site-packages (from dataclasses-json->llama-index-core>=0.12.25->docling-sdg) (3.26.1)\n",
      "Requirement already satisfied: multiprocess>=0.70.15 in /Users/astoyano/Documents/code/support-utils/.venv/lib/python3.11/site-packages (from mpire[dill]->semchunk>=2.2.2->docling-sdg) (0.70.17)\n",
      "Requirement already satisfied: ibm-cos-sdk-core==2.14.0 in /Users/astoyano/Documents/code/support-utils/.venv/lib/python3.11/site-packages (from ibm-cos-sdk<2.15.0,>=2.12.0->ibm-watsonx-ai>=1.1.24->llama-index-llms-ibm>=0.3.3->docling-sdg) (2.14.0)\n",
      "Requirement already satisfied: ibm-cos-sdk-s3transfer==2.14.0 in /Users/astoyano/Documents/code/support-utils/.venv/lib/python3.11/site-packages (from ibm-cos-sdk<2.15.0,>=2.12.0->ibm-watsonx-ai>=1.1.24->llama-index-llms-ibm>=0.3.3->docling-sdg) (2.14.0)\n",
      "Requirement already satisfied: jmespath<=1.0.1,>=0.10.0 in /Users/astoyano/Documents/code/support-utils/.venv/lib/python3.11/site-packages (from ibm-cos-sdk<2.15.0,>=2.12.0->ibm-watsonx-ai>=1.1.24->llama-index-llms-ibm>=0.3.3->docling-sdg) (1.0.1)\n",
      "Requirement already satisfied: mdurl~=0.1 in /Users/astoyano/Documents/code/support-utils/.venv/lib/python3.11/site-packages (from markdown-it-py>=2.2.0->rich>=10.11.0->typer>=0.12.5->docling-sdg) (0.1.2)\n",
      "Requirement already satisfied: dill>=0.3.9 in /Users/astoyano/Documents/code/support-utils/.venv/lib/python3.11/site-packages (from multiprocess>=0.70.15->mpire[dill]->semchunk>=2.2.2->docling-sdg) (0.3.9)\n",
      "Requirement already satisfied: six>=1.5 in /Users/astoyano/Documents/code/support-utils/.venv/lib/python3.11/site-packages (from python-dateutil>=2.8.2->pandas<3.0.0,>=2.1.4->docling>=2.26.0->docling-sdg) (1.17.0)\n",
      "Requirement already satisfied: jinja2 in /Users/astoyano/Documents/code/support-utils/.venv/lib/python3.11/site-packages (from torch<3.0.0,>=2.2.2->docling-ibm-models<4.0.0,>=3.4.0->docling>=2.26.0->docling-sdg) (3.1.6)\n",
      "Requirement already satisfied: sympy==1.13.1 in /Users/astoyano/Documents/code/support-utils/.venv/lib/python3.11/site-packages (from torch<3.0.0,>=2.2.2->docling-ibm-models<4.0.0,>=3.4.0->docling>=2.26.0->docling-sdg) (1.13.1)\n",
      "Requirement already satisfied: mpmath<1.4,>=1.1.0 in /Users/astoyano/Documents/code/support-utils/.venv/lib/python3.11/site-packages (from sympy==1.13.1->torch<3.0.0,>=2.2.2->docling-ibm-models<4.0.0,>=3.4.0->docling>=2.26.0->docling-sdg) (1.3.0)\n",
      "Requirement already satisfied: sniffio>=1.1 in /Users/astoyano/Documents/code/support-utils/.venv/lib/python3.11/site-packages (from anyio->httpx->llama-index-core>=0.12.25->docling-sdg) (1.3.1)\n",
      "Requirement already satisfied: imageio!=2.35.0,>=2.33 in /Users/astoyano/Documents/code/support-utils/.venv/lib/python3.11/site-packages (from scikit-image->easyocr<2.0,>=1.7->docling>=2.26.0->docling-sdg) (2.37.0)\n",
      "Requirement already satisfied: tifffile>=2022.8.12 in /Users/astoyano/Documents/code/support-utils/.venv/lib/python3.11/site-packages (from scikit-image->easyocr<2.0,>=1.7->docling>=2.26.0->docling-sdg) (2025.3.13)\n",
      "Requirement already satisfied: lazy-loader>=0.4 in /Users/astoyano/Documents/code/support-utils/.venv/lib/python3.11/site-packages (from scikit-image->easyocr<2.0,>=1.7->docling>=2.26.0->docling-sdg) (0.4)\n",
      "Requirement already satisfied: MarkupSafe>=2.0 in /Users/astoyano/Documents/code/support-utils/.venv/lib/python3.11/site-packages (from jinja2->torch<3.0.0,>=2.2.2->docling-ibm-models<4.0.0,>=3.4.0->docling>=2.26.0->docling-sdg) (3.0.2)\n"
     ]
    }
   ],
   "source": [
    "!pip install docling-sdg"
   ]
  },
  {
   "cell_type": "markdown",
   "id": "1b7d8e61-379e-424a-a66c-58224fe099d3",
   "metadata": {},
   "source": [
    "# Find PDF files from data/ subdirectory and convert using Docling"
   ]
  },
  {
   "cell_type": "code",
   "execution_count": 4,
   "id": "1f012ac3-eb4d-4e22-9281-520ea2e573d8",
   "metadata": {},
   "outputs": [],
   "source": [
    "import glob\n",
    "\n",
    "from docling.document_converter import DocumentConverter\n",
    "\n",
    "input_files = glob.glob(f\"data/*.pdf\")\n",
    "\n",
    "doc_converter = DocumentConverter()\n",
    "docs = doc_converter.convert_all(input_files)"
   ]
  },
  {
   "cell_type": "markdown",
   "id": "3bbe7773-2c0f-4397-8df8-986a12b939b6",
   "metadata": {},
   "source": [
    "# Chunk each document and apply filters to chunks\n",
    "\n",
    "To use a different chunker, see [Docling documentation](https://docling-project.github.io/docling/concepts/chunking/#hierarchical-chunker)."
   ]
  },
  {
   "cell_type": "code",
   "execution_count": 5,
   "id": "ed7115aa-2782-4482-a0af-9b8c03c7a7b3",
   "metadata": {},
   "outputs": [
    {
     "ename": "ModuleNotFoundError",
     "evalue": "No module named 'docling_sdg.qa'",
     "output_type": "error",
     "traceback": [
      "\u001b[31m---------------------------------------------------------------------------\u001b[39m",
      "\u001b[31mModuleNotFoundError\u001b[39m                       Traceback (most recent call last)",
      "\u001b[36mCell\u001b[39m\u001b[36m \u001b[39m\u001b[32mIn[5]\u001b[39m\u001b[32m, line 2\u001b[39m\n\u001b[32m      1\u001b[39m \u001b[38;5;28;01mfrom\u001b[39;00m\u001b[38;5;250m \u001b[39m\u001b[34;01mdocling_core\u001b[39;00m\u001b[34;01m.\u001b[39;00m\u001b[34;01mtransforms\u001b[39;00m\u001b[34;01m.\u001b[39;00m\u001b[34;01mchunker\u001b[39;00m\u001b[34;01m.\u001b[39;00m\u001b[34;01mhierarchical_chunker\u001b[39;00m\u001b[38;5;250m \u001b[39m\u001b[38;5;28;01mimport\u001b[39;00m HierarchicalChunker\n\u001b[32m----> \u001b[39m\u001b[32m2\u001b[39m \u001b[38;5;28;01mfrom\u001b[39;00m\u001b[38;5;250m \u001b[39m\u001b[34;01mdocling_sdg\u001b[39;00m\u001b[34;01m.\u001b[39;00m\u001b[34;01mqa\u001b[39;00m\u001b[34;01m.\u001b[39;00m\u001b[34;01mutils\u001b[39;00m\u001b[38;5;250m \u001b[39m\u001b[38;5;28;01mimport\u001b[39;00m get_qa_chunks\n\u001b[32m      4\u001b[39m chunker = HierarchicalChunker()\n\u001b[32m      6\u001b[39m filters = [\n\u001b[32m      7\u001b[39m     \u001b[38;5;28;01mlambda\u001b[39;00m chunk: \u001b[38;5;28mlen\u001b[39m(\u001b[38;5;28mstr\u001b[39m(chunk.text)) > \u001b[32m500\u001b[39m\n\u001b[32m      8\u001b[39m ]\n",
      "\u001b[31mModuleNotFoundError\u001b[39m: No module named 'docling_sdg.qa'"
     ]
    }
   ],
   "source": [
    "from docling_core.transforms.chunker.hierarchical_chunker import HierarchicalChunker\n",
    "from docling_sdg.qa.utils import get_qa_chunks\n",
    "\n",
    "chunker = HierarchicalChunker()\n",
    "\n",
    "filters = [\n",
    "    lambda chunk: len(str(chunk.text)) > 500\n",
    "]\n",
    "\n",
    "dataset = {}\n",
    "for doc in docs:\n",
    "    print(f\"Chunking and filtering document {doc.document.name}\")\n",
    "\n",
    "    chunks = list(chunker.chunk(dl_doc=doc.document))\n",
    "    qa_chunks = list(get_qa_chunks(doc.document.name, chunks, filters))\n",
    "    dataset[doc.document.name] = qa_chunks\n",
    "    \n",
    "    print(f\"Created dataset {doc.document.name} with {len(qa_chunks)} QA chunks\")"
   ]
  },
  {
   "cell_type": "markdown",
   "id": "a68bcf83-7b1e-4b68-8d5a-c4a8f085fd4a",
   "metadata": {},
   "source": [
    "# Initialize QA generator, supplying details for which model to use\n",
    "\n",
    "`GenerateOptions` controls which model is used for QA generation by setting `generate_options.provider` below. Three options are available:\n",
    "\n",
    "* `LlmProviders.WATSONX` for watsonx\n",
    "* `LlmProviders.OPENAI` for OpenAI\n",
    "* `LlmProviders.OPENAI_LIKE` for any model provider with OpenAI compatible APIs"
   ]
  },
  {
   "cell_type": "code",
   "execution_count": 2,
   "id": "932873ed-25c1-482a-bf3b-a75b804aae4b",
   "metadata": {},
   "outputs": [
    {
     "ename": "ModuleNotFoundError",
     "evalue": "No module named 'docling_sdg.qa'",
     "output_type": "error",
     "traceback": [
      "\u001b[31m---------------------------------------------------------------------------\u001b[39m",
      "\u001b[31mModuleNotFoundError\u001b[39m                       Traceback (most recent call last)",
      "\u001b[36mCell\u001b[39m\u001b[36m \u001b[39m\u001b[32mIn[2]\u001b[39m\u001b[32m, line 1\u001b[39m\n\u001b[32m----> \u001b[39m\u001b[32m1\u001b[39m \u001b[38;5;28;01mfrom\u001b[39;00m\u001b[38;5;250m \u001b[39m\u001b[34;01mdocling_sdg\u001b[39;00m\u001b[34;01m.\u001b[39;00m\u001b[34;01mqa\u001b[39;00m\u001b[34;01m.\u001b[39;00m\u001b[34;01mgenerate\u001b[39;00m\u001b[38;5;250m \u001b[39m\u001b[38;5;28;01mimport\u001b[39;00m Generator\n\u001b[32m      2\u001b[39m \u001b[38;5;28;01mfrom\u001b[39;00m\u001b[38;5;250m \u001b[39m\u001b[34;01mdocling_sdg\u001b[39;00m\u001b[34;01m.\u001b[39;00m\u001b[34;01mqa\u001b[39;00m\u001b[34;01m.\u001b[39;00m\u001b[34;01mbase\u001b[39;00m\u001b[38;5;250m \u001b[39m\u001b[38;5;28;01mimport\u001b[39;00m GenerateOptions, LlmProviders\n\u001b[32m      4\u001b[39m generate_options = GenerateOptions(api_key=\u001b[33m\"\u001b[39m\u001b[33mfake\u001b[39m\u001b[33m\"\u001b[39m, project_id=\u001b[33m\"\u001b[39m\u001b[33mproject_id\u001b[39m\u001b[33m\"\u001b[39m)\n",
      "\u001b[31mModuleNotFoundError\u001b[39m: No module named 'docling_sdg.qa'"
     ]
    }
   ],
   "source": [
    "from docling_sdg.qa.generate import Generator\n",
    "from docling_sdg.qa.base import GenerateOptions, LlmProviders\n",
    "\n",
    "generate_options = GenerateOptions(api_key=\"fake\", project_id=\"project_id\")\n",
    "generate_options.provider = LlmProviders.OPENAI_LIKE\n",
    "generate_options.api_key = \"fake\"\n",
    "generate_options.model_id = \"mixtral\" # for local ollama\n",
    "gen = Generator(generate_options=generate_options)"
   ]
  },
  {
   "cell_type": "markdown",
   "id": "0c1cc2d7-9c88-4587-ae61-4dafd73b806b",
   "metadata": {},
   "source": [
    "# For each set of per-document chunks, generate QAs using model"
   ]
  },
  {
   "cell_type": "code",
   "execution_count": 5,
   "id": "0aaf9bfe-bd28-4034-a950-76c364280c89",
   "metadata": {},
   "outputs": [
    {
     "name": "stdout",
     "output_type": "stream",
     "text": [
      "processing chunks that looks like:\n",
      "Insertional mutagenesis approaches, especially by T-DNA, play important roles in gene function studies of the model plant Arabidopsis thaliana . GABI-Kat SimpleSearch (http://www.GABI-Kat.de) is a Flanking Sequence Tag (FST)-based database for T-DNA insertion mutants generated by the GABI-Kat project. Currently, the database contains . 108 000 mapped FSTs from /C24 64 000 lines which cover 64% of all annotated A.thaliana protein-coding genes. The web interface allows searching for relevant insertions by gene code, keyword, line identifier, GenBank accession number of the FST, and also by BLAST. A graphic display of the genome region around the gene or the FST assists users to select insertion lines of their interests. About 3500 insertions were confirmed in the offspring of the plant from which the original FST was generated, and the seeds of these lines are available from the Nottingham Arabidopsis Stock Centre. The database now also contains additional information such as segregation data, gene-specific primers and confirmation sequences. This information not only helps users to evaluate the usefulness of the mutant lines, but also covers a big part of the molecular characterization of the insertion alleles.\n"
     ]
    },
    {
     "name": "stderr",
     "output_type": "stream",
     "text": [
      " 62%|█████████████████████████████████████████████████████████████████████████████████████████████████████████████▍                                                                 | 10/16 [00:33<00:27,  4.63s/it]Failed parsing JSON from generated question: \n",
      " 94%|████████████████████████████████████████████████████████████████████████████████████████████████████████████████████████████████████████████████████████████████████           | 15/16 [01:10<00:07,  7.15s/it]Failed parsing JSON from generated question: \n",
      "100%|███████████████████████████████████████████████████████████████████████████████████████████████████████████████████████████████████████████████████████████████████████████████| 16/16 [01:35<00:00,  5.96s/it]"
     ]
    },
    {
     "name": "stdout",
     "output_type": "stream",
     "text": [
      "oa_pdf_00_c3_gkl753_PMC1781121: Status.SUCCESS\n"
     ]
    },
    {
     "name": "stderr",
     "output_type": "stream",
     "text": [
      "\n"
     ]
    }
   ],
   "source": [
    "for doc, chunks in dataset.items():\n",
    "    print(f\"processing chunks that looks like:\\n{chunks[0].text}\")\n",
    "    results = gen.generate_from_chunks(chunks)\n",
    "    print(f\"{doc}: {results.status}\")\n",
    "    break"
   ]
  },
  {
   "cell_type": "markdown",
   "id": "b7672b26-6145-4e2e-aee2-1b043803be10",
   "metadata": {},
   "source": [
    "# Process docling-sdg JSON output into InstructLab qna.yaml and save to disk"
   ]
  },
  {
   "cell_type": "code",
   "execution_count": 6,
   "id": "e338a932-451f-49bd-b9d4-bf8a93d1a46d",
   "metadata": {},
   "outputs": [
    {
     "name": "stdout",
     "output_type": "stream",
     "text": [
      "Done\n"
     ]
    }
   ],
   "source": [
    "import json\n",
    "import yaml\n",
    "from textwrap import wrap\n",
    "\n",
    "qnas = {}\n",
    "chunk_id_to_text = {}\n",
    "with open(\"docling_sdg_generated_qac.jsonl\", \"rt\") as f:\n",
    "    for line in f.readlines():\n",
    "        entry = json.loads(line)\n",
    "        chunk_id = entry['chunk_id']\n",
    "        if chunk_id not in chunk_id_to_text:\n",
    "            chunk_id_to_text[chunk_id] = entry['context']\n",
    "        if chunk_id not in qnas:\n",
    "            qnas[chunk_id] = []\n",
    "        qnas[chunk_id].append({'question': entry['question'], 'answer': entry['answer']})\n",
    "\n",
    "\n",
    "def str_presenter(dumper, data):\n",
    "  if len(data.splitlines()) > 1:  # check for multiline string\n",
    "    return dumper.represent_scalar('tag:yaml.org,2002:str', data, style='|')\n",
    "  elif len(data) > 80:\n",
    "    data = \"\\n\".join(wrap(data, 80))\n",
    "    return dumper.represent_scalar('tag:yaml.org,2002:str', data, style='|')\n",
    "  return dumper.represent_scalar('tag:yaml.org,2002:str', data)\n",
    "\n",
    "yaml.add_representer(str, str_presenter)\n",
    "\n",
    "# to use with safe_dump:\n",
    "yaml.representer.SafeRepresenter.add_representer(str, str_presenter)\n",
    "\n",
    "class IndentedDumper(yaml.Dumper):\n",
    "    def increase_indent(self, flow=False, indentless=False):\n",
    "        return super(IndentedDumper, self).increase_indent(flow, False)\n",
    "\n",
    "data = {'seed_examples': []}\n",
    "for chunk_id, context in chunk_id_to_text.items():\n",
    "    data['seed_examples'].append({\n",
    "        'context': context,\n",
    "        'questions_and_answers': [\n",
    "            {\n",
    "                'question': example['question'],\n",
    "                'answer': example['answer'],\n",
    "            } for example in qnas[chunk_id]\n",
    "        ]\n",
    "    })\n",
    "\n",
    "with open('qna.yml', 'w') as yaml_file:\n",
    "    yaml.dump(data, yaml_file, Dumper=IndentedDumper, default_flow_style=False, sort_keys=False, width=80)\n",
    "\n",
    "print(\"Done\")"
   ]
  },
  {
   "cell_type": "markdown",
   "id": "49b46a7a-5b38-4ca8-ac3f-cdf9ff2eb9bf",
   "metadata": {},
   "source": [
    "# Appendix: How to generate QAs for a specific text string"
   ]
  },
  {
   "cell_type": "code",
   "execution_count": 7,
   "id": "9ad9e029-10c9-452a-871e-f69e5b845b53",
   "metadata": {},
   "outputs": [],
   "source": [
    "from docling_sdg.qa.base import QaChunk\n",
    "\n",
    "# example to see what gets generated for a specific text string\n",
    "\n",
    "#text = \"George Washington (February 22, 1732 [O.S. February 11, 1731][a] – December 14, 1799) was a Founding Father and the first president of the United States, serving from 1789 to 1797. As commander of the Continental Army, Washington led Patriot forces to victory in the American Revolutionary War against the British Empire. He is commonly known as the Father of His Country for his role in bringing about American independence.\"\n",
    "#chunk = QaChunk(meta={\"doc_items\": [{\"self_ref\":\"#/CfL\",\"label\": \"text\"}], \"chunk_id\": \"\",\"doc_id\": \"\"}, text=text)\n",
    "#gen.generate_from_chunks([chunk])"
   ]
  }
 ],
 "metadata": {
  "kernelspec": {
   "display_name": "Python 3 (ipykernel)",
   "language": "python",
   "name": "python3"
  },
  "language_info": {
   "codemirror_mode": {
    "name": "ipython",
    "version": 3
   },
   "file_extension": ".py",
   "mimetype": "text/x-python",
   "name": "python",
   "nbconvert_exporter": "python",
   "pygments_lexer": "ipython3",
   "version": "3.11.9"
  }
 },
 "nbformat": 4,
 "nbformat_minor": 5
}
